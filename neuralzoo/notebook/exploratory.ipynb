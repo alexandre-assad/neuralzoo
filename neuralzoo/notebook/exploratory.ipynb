{
 "cells": [
  {
   "cell_type": "code",
   "execution_count": 1,
   "metadata": {},
   "outputs": [
    {
     "name": "stdout",
     "output_type": "stream",
     "text": [
      "Downloading data from https://www.cs.toronto.edu/~kriz/cifar-10-python.tar.gz\n",
      "\u001b[1m  1933312/170498071\u001b[0m \u001b[37m━━━━━━━━━━━━━━━━━━━━\u001b[0m \u001b[1m45:19\u001b[0m 16us/step"
     ]
    }
   ],
   "source": [
    "from neuralzoo.loader.load_data import dataframes_from_cifar\n",
    "import tensorflow as tf\n",
    "\n",
    "# NOTE legacy import from local pickles\n",
    "# dataframe_train, target_train, dataframe_test, target_test = dataframes_from_cifar()\n",
    "# target_train.head()\n",
    "data = tf.keras.datasets.cifar10.load_data()\n",
    "data"
   ]
  }
 ],
 "metadata": {
  "kernelspec": {
   "display_name": "neuralzoo-PZ8dmAo7-py3.12",
   "language": "python",
   "name": "python3"
  },
  "language_info": {
   "codemirror_mode": {
    "name": "ipython",
    "version": 3
   },
   "file_extension": ".py",
   "mimetype": "text/x-python",
   "name": "python",
   "nbconvert_exporter": "python",
   "pygments_lexer": "ipython3",
   "version": "3.12.10"
  }
 },
 "nbformat": 4,
 "nbformat_minor": 2
}
